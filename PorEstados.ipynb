{
 "metadata": {
  "language_info": {
   "codemirror_mode": {
    "name": "ipython",
    "version": 3
   },
   "file_extension": ".py",
   "mimetype": "text/x-python",
   "name": "python",
   "nbconvert_exporter": "python",
   "pygments_lexer": "ipython3",
   "version": "3.8.2-final"
  },
  "orig_nbformat": 2,
  "kernelspec": {
   "name": "python38264bitvenvvenvef73416fea304e3a9efc0ac48372b7df",
   "display_name": "Python 3.8.2 64-bit ('.venv': venv)"
  }
 },
 "nbformat": 4,
 "nbformat_minor": 2,
 "cells": [
  {
   "cell_type": "code",
   "execution_count": null,
   "metadata": {},
   "outputs": [],
   "source": [
    "Filtrar dataset em vários arquivos .csv\n",
    "\n",
    "Conjuntos de Dados do Enen 2019: http://www.dados.gov.br/dataset/precos-de-medicamentos-governo\n",
    "\n",
    "Baseado nas Playlists de Pandas e DataSciente do Canal: Programação Dinâmica\n",
    "YouTube: https://www.youtube.com/c/Programa%C3%A7%C3%A3oDin%C3%A2mica\n",
    "Github: https://github.com/programacaodinamica\n"
   ]
  },
  {
   "cell_type": "markdown",
   "metadata": {},
   "source": []
  },
  {
   "cell_type": "code",
   "execution_count": 1,
   "metadata": {},
   "outputs": [],
   "source": [
    "import pandas as pd\n",
    "import zipfile"
   ]
  },
  {
   "cell_type": "code",
   "execution_count": 2,
   "metadata": {
    "tags": []
   },
   "outputs": [
    {
     "output_type": "stream",
     "name": "stdout",
     "text": "LEIA-ME E DOCUMENTOS TÉCNICOS/\nLEIA-ME E DOCUMENTOS TÉCNICOS/matriz_referencia_enem.pdf\nLEIA-ME E DOCUMENTOS TÉCNICOS/Leia_Me_Enem_2019.pdf\nLEIA-ME E DOCUMENTOS TÉCNICOS/manual_de_redacao_do_enem_2019.pdf\nLEIA-ME E DOCUMENTOS TÉCNICOS/Edital_enem_2019.pdf\nPROVAS E GABARITOS/\nPROVAS E GABARITOS/ENEM_2019_P1_CAD_02_DIA_1_AMARELO.pdf\nPROVAS E GABARITOS/ENEM_2019_P1_CAD_02_DIA_1_AMARELO_AMPLIADA.pdf\nPROVAS E GABARITOS/ENEM_2019_P1_CAD_02_DIA_1_AMARELO_SUPERAMPLIADA.pdf\nPROVAS E GABARITOS/ENEM_2019_P1_CAD_03_DIA_1_BRANCO.pdf\nPROVAS E GABARITOS/ENEM_2019_P1_CAD_04_DIA_1_ROSA.pdf\nPROVAS E GABARITOS/ENEM_2019_P1_CAD_09_DIA_1_LARANJA_LEDOR.pdf\nPROVAS E GABARITOS/ENEM_2019_P1_CAD_10_DIA_1_VERDE_LIBRAS.pdf\nPROVAS E GABARITOS/ENEM_2019_P1_CAD_05_DIA_2_AMARELO.pdf\nPROVAS E GABARITOS/ENEM_2019_P1_GAB_02_DIA_1_AMARELO.pdf.pdf\nPROVAS E GABARITOS/ENEM_2019_P1_GAB_02_DIA_1_AMARELO_AMPLIADA.pdf\nPROVAS E GABARITOS/ENEM_2019_P1_GAB_02_DIA_1_AMARELO_SUPERAMPLIADA.pdf\nPROVAS E GABARITOS/ENEM_2019_P1_GAB_03_DIA_1_BRANCO.pdf\nPROVAS E GABARITOS/ENEM_2019_P1_GAB_04_DIA_1_ROSA.pdf\nPROVAS E GABARITOS/ENEM_2019_P1_GAB_09_DIA_1_LARANJA_LEDOR.pdf\nPROVAS E GABARITOS/ENEM_2019_P1_GAB_10_DIA_1_VERDE_LIBRAS.pdf\nPROVAS E GABARITOS/ENEM_2019_P1_GAB_05_DIA_2_AMARELO.pdf\nPROVAS E GABARITOS/ENEM_2019_P2_GAB_05_DIA_2_AMARELO_SUPERAMPLIADA.pdf\nPROVAS E GABARITOS/ENEM_2019_P1_CAD_06_DIA_2_CINZA_AMPLIADA.pdf\nPROVAS E GABARITOS/ENEM_2019_P1_CAD_06_DIA_2_CINZA_SUPERAMPLIADA.pdf\nPROVAS E GABARITOS/ENEM_2019_P1_CAD_07_DIA_2_AZUL.pdf\nPROVAS E GABARITOS/ENEM_2019_P1_CAD_08_DIA_2_ROSA.pdf\nPROVAS E GABARITOS/ENEM_2019_P1_CAD_06_DIA_2_CINZA.pdf\nPROVAS E GABARITOS/ENEM_2019_P1_CAD_11_DIA_2_LARANJA_LEDOR.pdf\nPROVAS E GABARITOS/ENEM_2019_P1_CAD_12_DIA_2_VERDE_LIBRAS.pdf\nPROVAS E GABARITOS/ENEM_2019_P1_GAB_01_DIA_1_AZUL.pdf\nPROVAS E GABARITOS/ENEM_2019_P1_GAB_06_DIA_2_CINZA.pdf\nPROVAS E GABARITOS/ENEM_2019_P1_GAB_06_DIA_2_CINZA_AMPLIADA.pdf\nPROVAS E GABARITOS/ENEM_2019_P1_GAB_06_DIA_2_CINZA_SUPERAMPLIADA.pdf\nPROVAS E GABARITOS/ENEM_2019_P1_GAB_07_DIA_2_AZUL.pdf\nPROVAS E GABARITOS/ENEM_2019_P1_GAB_08_DIA_2_ROSA.pdf\nPROVAS E GABARITOS/ENEM_2019_P1_GAB_11_DIA_2_LARANJA_LEDOR.pdf\nPROVAS E GABARITOS/ENEM_2019_P1_GAB_12_DIA_2_VERDE_LIBRAS.pdf\nPROVAS E GABARITOS/ENEM_2019_P2_CAD_01_DIA_1_AZUL.pdf\nPROVAS E GABARITOS/ENEM_2019_P2_GAB_01_DIA_1_AZUL_AMPLIADA.pdf\nPROVAS E GABARITOS/ENEM_2019_P2_CAD_01_DIA_1_AZUL_AMPLIADA.pdf\nPROVAS E GABARITOS/ENEM_2019_P2_CAD_01_DIA_1_AZUL_SUPERAMPLIADA.pdf\nPROVAS E GABARITOS/ENEM_2019_P2_CAD_02_DIA_1_AMARELO.pdf\nPROVAS E GABARITOS/ENEM_2019_P2_CAD_03_DIA_1_BRANCO.pdf\nPROVAS E GABARITOS/ENEM_2019_P2_CAD_04_DIA_1_ROSA.pdf\nPROVAS E GABARITOS/ENEM_2019_P2_CAD_09_DIA_1_LARANJA_LEDOR.pdf\nPROVAS E GABARITOS/ENEM_2019_P2_CAD_05_DIA_2_AMARELO.pdf\nPROVAS E GABARITOS/ENEM_2019_P2_GAB_06_DIA_2_CINZA.pdf\nPROVAS E GABARITOS/ENEM_2019_P2_GAB_02_DIA_1_AMARELO.pdf\nPROVAS E GABARITOS/ENEM_2019_P2_GAB_03_DIA_1_BRANCO.pdf\nPROVAS E GABARITOS/ENEM_2019_P2_GAB_04_DIA_1_ROSA.pdf\nPROVAS E GABARITOS/ENEM_2019_P2_GAB_09_DIA_1_LARANJA_LEDOR.pdf\nPROVAS E GABARITOS/ENEM_2019_P2_GAB_05_DIA_2_AMARELO.pdf\nPROVAS E GABARITOS/ENEM_2019_P2_CAD_05_DIA_2_AMARELO_AMPLIADA.pdf\nPROVAS E GABARITOS/ENEM_2019_P2_CAD_05_DIA_2_AMARELO_SUPERAMPLIADA.pdf\nPROVAS E GABARITOS/ENEM_2019_P2_CAD_06_DIA_2_CINZA.pdf\nPROVAS E GABARITOS/ENEM_2019_P2_CAD_07_DIA_2_AZUL.pdf\nPROVAS E GABARITOS/ENEM_2019_P2_CAD_08_DIA_2_ROSA.pdf\nPROVAS E GABARITOS/ENEM_2019_P2_CAD_11_DIA_2_LARANJA_LEDOR.pdf\nPROVAS E GABARITOS/ENEM_2019_P2_GAB_01_DIA_1_AZUL.pdf\nPROVAS E GABARITOS/ENEM_2019_P2_GAB_05_DIA_2_AMARELO_AMPLIADA.pdf\nPROVAS E GABARITOS/ENEM_2019_P1_CAD_01_DIA_1_AZUL.pdf\nPROVAS E GABARITOS/ENEM_2019_P2_GAB_01_DIA_1_AZUL_SUPERAMPLIADA.pdf\nPROVAS E GABARITOS/ENEM_2019_P2_GAB_07_DIA_2_AZUL.pdf\nPROVAS E GABARITOS/ENEM_2019_P2_GAB_08_DIA_2_ROSA.pdf\nPROVAS E GABARITOS/ENEM_2019_P2_GAB_11_DIA_2_LARANJA_LEDOR.pdf\nDADOS/\nDADOS/MICRODADOS_ENEM_2019.csv\nDADOS/ITENS_PROVA_2019.csv\nDICION╡RIO/\nDICION╡RIO/Dicionário_Microdados_Enem_2019.ods\nDICION╡RIO/Dicionário_Microdados_Enem_2019.xlsx\nINPUTS/\nINPUTS/INPUT_R_MICRODADOS_ENEM_2019.R\nINPUTS/INPUT_SAS_ITENS_PROVA_2019.sas\nINPUTS/INPUT_SAS_MICRODADOS_ENEM_2019.sas\nINPUTS/INPUT_SPSS_ITENS_PROVA_2019.sps\nINPUTS/INPUT_SPSS_MICRODADOS_ENEM_2019.sps\nINPUTS/INPUT_R_ITENS_PROVA_2019.R\n"
    }
   ],
   "source": [
    "with zipfile.ZipFile('./dados/microdados_enem_2019.zip') as z:\n",
    "    print(*z.namelist(), sep='\\n')"
   ]
  },
  {
   "cell_type": "code",
   "execution_count": 3,
   "metadata": {
    "tags": []
   },
   "outputs": [
    {
     "output_type": "stream",
     "name": "stdout",
     "text": "CPU times: user 34 ms, sys: 511 µs, total: 34.5 ms\nWall time: 33.4 ms\n"
    }
   ],
   "source": [
    "%%time\n",
    "with zipfile.ZipFile('./dados/microdados_enem_2019.zip') as z:\n",
    "    with z.open('DADOS/MICRODADOS_ENEM_2019.csv') as f:\n",
    "        dados = pd.read_csv(f, sep=';', encoding='ISO-8859-1', nrows=0)"
   ]
  },
  {
   "cell_type": "code",
   "execution_count": 4,
   "metadata": {},
   "outputs": [
    {
     "output_type": "execute_result",
     "data": {
      "text/plain": "array(['NU_INSCRICAO', 'NU_ANO', 'CO_MUNICIPIO_RESIDENCIA',\n       'NO_MUNICIPIO_RESIDENCIA', 'CO_UF_RESIDENCIA', 'SG_UF_RESIDENCIA',\n       'NU_IDADE', 'TP_SEXO', 'TP_ESTADO_CIVIL', 'TP_COR_RACA',\n       'TP_NACIONALIDADE', 'CO_MUNICIPIO_NASCIMENTO',\n       'NO_MUNICIPIO_NASCIMENTO', 'CO_UF_NASCIMENTO', 'SG_UF_NASCIMENTO',\n       'TP_ST_CONCLUSAO', 'TP_ANO_CONCLUIU', 'TP_ESCOLA', 'TP_ENSINO',\n       'IN_TREINEIRO', 'CO_ESCOLA', 'CO_MUNICIPIO_ESC',\n       'NO_MUNICIPIO_ESC', 'CO_UF_ESC', 'SG_UF_ESC',\n       'TP_DEPENDENCIA_ADM_ESC', 'TP_LOCALIZACAO_ESC', 'TP_SIT_FUNC_ESC',\n       'IN_BAIXA_VISAO', 'IN_CEGUEIRA', 'IN_SURDEZ',\n       'IN_DEFICIENCIA_AUDITIVA', 'IN_SURDO_CEGUEIRA',\n       'IN_DEFICIENCIA_FISICA', 'IN_DEFICIENCIA_MENTAL',\n       'IN_DEFICIT_ATENCAO', 'IN_DISLEXIA', 'IN_DISCALCULIA',\n       'IN_AUTISMO', 'IN_VISAO_MONOCULAR', 'IN_OUTRA_DEF', 'IN_GESTANTE',\n       'IN_LACTANTE', 'IN_IDOSO', 'IN_ESTUDA_CLASSE_HOSPITALAR',\n       'IN_SEM_RECURSO', 'IN_BRAILLE', 'IN_AMPLIADA_24', 'IN_AMPLIADA_18',\n       'IN_LEDOR', 'IN_ACESSO', 'IN_TRANSCRICAO', 'IN_LIBRAS',\n       'IN_TEMPO_ADICIONAL', 'IN_LEITURA_LABIAL', 'IN_MESA_CADEIRA_RODAS',\n       'IN_MESA_CADEIRA_SEPARADA', 'IN_APOIO_PERNA', 'IN_GUIA_INTERPRETE',\n       'IN_COMPUTADOR', 'IN_CADEIRA_ESPECIAL', 'IN_CADEIRA_CANHOTO',\n       'IN_CADEIRA_ACOLCHOADA', 'IN_PROVA_DEITADO', 'IN_MOBILIARIO_OBESO',\n       'IN_LAMINA_OVERLAY', 'IN_PROTETOR_AURICULAR', 'IN_MEDIDOR_GLICOSE',\n       'IN_MAQUINA_BRAILE', 'IN_SOROBAN', 'IN_MARCA_PASSO', 'IN_SONDA',\n       'IN_MEDICAMENTOS', 'IN_SALA_INDIVIDUAL', 'IN_SALA_ESPECIAL',\n       'IN_SALA_ACOMPANHANTE', 'IN_MOBILIARIO_ESPECIFICO',\n       'IN_MATERIAL_ESPECIFICO', 'IN_NOME_SOCIAL', 'CO_MUNICIPIO_PROVA',\n       'NO_MUNICIPIO_PROVA', 'CO_UF_PROVA', 'SG_UF_PROVA',\n       'TP_PRESENCA_CN', 'TP_PRESENCA_CH', 'TP_PRESENCA_LC',\n       'TP_PRESENCA_MT', 'CO_PROVA_CN', 'CO_PROVA_CH', 'CO_PROVA_LC',\n       'CO_PROVA_MT', 'NU_NOTA_CN', 'NU_NOTA_CH', 'NU_NOTA_LC',\n       'NU_NOTA_MT', 'TX_RESPOSTAS_CN', 'TX_RESPOSTAS_CH',\n       'TX_RESPOSTAS_LC', 'TX_RESPOSTAS_MT', 'TP_LINGUA',\n       'TX_GABARITO_CN', 'TX_GABARITO_CH', 'TX_GABARITO_LC',\n       'TX_GABARITO_MT', 'TP_STATUS_REDACAO', 'NU_NOTA_COMP1',\n       'NU_NOTA_COMP2', 'NU_NOTA_COMP3', 'NU_NOTA_COMP4', 'NU_NOTA_COMP5',\n       'NU_NOTA_REDACAO', 'Q001', 'Q002', 'Q003', 'Q004', 'Q005', 'Q006',\n       'Q007', 'Q008', 'Q009', 'Q010', 'Q011', 'Q012', 'Q013', 'Q014',\n       'Q015', 'Q016', 'Q017', 'Q018', 'Q019', 'Q020', 'Q021', 'Q022',\n       'Q023', 'Q024', 'Q025'], dtype=object)"
     },
     "metadata": {},
     "execution_count": 4
    }
   ],
   "source": [
    "dados.columns.values"
   ]
  },
  {
   "cell_type": "code",
   "execution_count": 5,
   "metadata": {},
   "outputs": [],
   "source": [
    "columns = ['NU_INSCRICAO', 'NU_ANO', 'CO_MUNICIPIO_RESIDENCIA',\n",
    "       'NO_MUNICIPIO_RESIDENCIA', 'CO_UF_RESIDENCIA', 'SG_UF_RESIDENCIA',\n",
    "       'NU_IDADE', 'TP_SEXO', 'TP_ESTADO_CIVIL', 'TP_COR_RACA',\n",
    "       'TP_NACIONALIDADE', 'CO_MUNICIPIO_NASCIMENTO',\n",
    "       'NO_MUNICIPIO_NASCIMENTO', 'CO_UF_NASCIMENTO', 'SG_UF_NASCIMENTO',\n",
    "       'TP_ST_CONCLUSAO', 'TP_ANO_CONCLUIU', 'TP_ESCOLA', 'TP_ENSINO',\n",
    "       'NU_NOTA_CN', 'NU_NOTA_CH', 'NU_NOTA_LC',\n",
    "       'NU_NOTA_MT', 'TX_RESPOSTAS_CN', 'TX_RESPOSTAS_CH',\n",
    "       'TX_RESPOSTAS_LC', 'TX_RESPOSTAS_MT', 'TP_LINGUA',\n",
    "       'TX_GABARITO_CN', 'TX_GABARITO_CH', 'TX_GABARITO_LC',\n",
    "       'TX_GABARITO_MT', 'TP_STATUS_REDACAO', 'NU_NOTA_COMP1',\n",
    "       'NU_NOTA_COMP2', 'NU_NOTA_COMP3', 'NU_NOTA_COMP4', 'NU_NOTA_COMP5',\n",
    "       'NU_NOTA_REDACAO']"
   ]
  },
  {
   "cell_type": "code",
   "execution_count": 6,
   "metadata": {
    "tags": []
   },
   "outputs": [
    {
     "output_type": "stream",
     "name": "stdout",
     "text": "CPU times: user 45.3 s, sys: 2.21 s, total: 47.5 s\nWall time: 47.6 s\n"
    }
   ],
   "source": [
    "%%time\n",
    "with zipfile.ZipFile('./dados/microdados_enem_2019.zip') as z:\n",
    "    with z.open('DADOS/MICRODADOS_ENEM_2019.csv') as f:\n",
    "        dados = pd.read_csv(f, sep=';', encoding='ISO-8859-1', usecols=columns)"
   ]
  },
  {
   "cell_type": "code",
   "execution_count": 7,
   "metadata": {
    "tags": []
   },
   "outputs": [
    {
     "output_type": "execute_result",
     "data": {
      "text/plain": "   NU_INSCRICAO  NU_ANO  CO_MUNICIPIO_RESIDENCIA     NO_MUNICIPIO_RESIDENCIA  \\\n0  190001004627    2019                  1506807                    Santarém   \n1  190001004628    2019                  1504059                  Mãe do Rio   \n2  190001004629    2019                  1505502                 Paragominas   \n3  190001004630    2019                  1507706  São Sebastião da Boa Vista   \n4  190001004631    2019                  1503903                      Juruti   \n\n   CO_UF_RESIDENCIA SG_UF_RESIDENCIA  NU_IDADE TP_SEXO  TP_ESTADO_CIVIL  \\\n0                15               PA        21       M                1   \n1                15               PA        16       F                1   \n2                15               PA        18       F                1   \n3                15               PA        23       M                0   \n4                15               PA        23       M                1   \n\n   TP_COR_RACA  ...                                 TX_GABARITO_CH  \\\n0            3  ...  ACACEEBCCBABADBBBACDBBACCCCADCEBADCBEEDBBEADB   \n1            3  ...  EEBCEEDBADBBCBABCCADCEBACDBBACCACACBEADBBADCB   \n2            1  ...  EEBCEEDBADBBCBABCCADCEBACDBBACCACACBEADBBADCB   \n3            3  ...                                            NaN   \n4            3  ...                                            NaN   \n\n                                      TX_GABARITO_LC  \\\n0  EBBADCABDABACBCEBDEEAAADDBECDECDDBADBCDAAECBCC...   \n1  ADBBEDCABAABBCBCDAAECDDDBAAAECADECDCEBDEEAECBD...   \n2  ADBBEDCABAABBCBCDAAECDDDBAAAECADECDCEBDEEAECBD...   \n3                                                NaN   \n4                                                NaN   \n\n                                  TX_GABARITO_MT  TP_STATUS_REDACAO  \\\n0  BEDEEEAADBEBACABCDBABECECACADCBDCCEDCDABECDDD                1.0   \n1  AADDDBEEEBEDDBEBACABCDBABECECACAECDCBDCCEDCDA                1.0   \n2  DBEBACABCDBABECEEEDCBDCCEDCDABEDAADDDECACAECB                1.0   \n3                                            NaN                NaN   \n4                                            NaN                NaN   \n\n  NU_NOTA_COMP1  NU_NOTA_COMP2  NU_NOTA_COMP3  NU_NOTA_COMP4  NU_NOTA_COMP5  \\\n0         160.0          160.0          160.0          140.0          160.0   \n1         120.0          120.0          120.0          120.0          120.0   \n2         140.0          120.0          120.0          140.0          120.0   \n3           NaN            NaN            NaN            NaN            NaN   \n4           NaN            NaN            NaN            NaN            NaN   \n\n   NU_NOTA_REDACAO  \n0            780.0  \n1            600.0  \n2            640.0  \n3              NaN  \n4              NaN  \n\n[5 rows x 39 columns]",
      "text/html": "<div>\n<style scoped>\n    .dataframe tbody tr th:only-of-type {\n        vertical-align: middle;\n    }\n\n    .dataframe tbody tr th {\n        vertical-align: top;\n    }\n\n    .dataframe thead th {\n        text-align: right;\n    }\n</style>\n<table border=\"1\" class=\"dataframe\">\n  <thead>\n    <tr style=\"text-align: right;\">\n      <th></th>\n      <th>NU_INSCRICAO</th>\n      <th>NU_ANO</th>\n      <th>CO_MUNICIPIO_RESIDENCIA</th>\n      <th>NO_MUNICIPIO_RESIDENCIA</th>\n      <th>CO_UF_RESIDENCIA</th>\n      <th>SG_UF_RESIDENCIA</th>\n      <th>NU_IDADE</th>\n      <th>TP_SEXO</th>\n      <th>TP_ESTADO_CIVIL</th>\n      <th>TP_COR_RACA</th>\n      <th>...</th>\n      <th>TX_GABARITO_CH</th>\n      <th>TX_GABARITO_LC</th>\n      <th>TX_GABARITO_MT</th>\n      <th>TP_STATUS_REDACAO</th>\n      <th>NU_NOTA_COMP1</th>\n      <th>NU_NOTA_COMP2</th>\n      <th>NU_NOTA_COMP3</th>\n      <th>NU_NOTA_COMP4</th>\n      <th>NU_NOTA_COMP5</th>\n      <th>NU_NOTA_REDACAO</th>\n    </tr>\n  </thead>\n  <tbody>\n    <tr>\n      <th>0</th>\n      <td>190001004627</td>\n      <td>2019</td>\n      <td>1506807</td>\n      <td>Santarém</td>\n      <td>15</td>\n      <td>PA</td>\n      <td>21</td>\n      <td>M</td>\n      <td>1</td>\n      <td>3</td>\n      <td>...</td>\n      <td>ACACEEBCCBABADBBBACDBBACCCCADCEBADCBEEDBBEADB</td>\n      <td>EBBADCABDABACBCEBDEEAAADDBECDECDDBADBCDAAECBCC...</td>\n      <td>BEDEEEAADBEBACABCDBABECECACADCBDCCEDCDABECDDD</td>\n      <td>1.0</td>\n      <td>160.0</td>\n      <td>160.0</td>\n      <td>160.0</td>\n      <td>140.0</td>\n      <td>160.0</td>\n      <td>780.0</td>\n    </tr>\n    <tr>\n      <th>1</th>\n      <td>190001004628</td>\n      <td>2019</td>\n      <td>1504059</td>\n      <td>Mãe do Rio</td>\n      <td>15</td>\n      <td>PA</td>\n      <td>16</td>\n      <td>F</td>\n      <td>1</td>\n      <td>3</td>\n      <td>...</td>\n      <td>EEBCEEDBADBBCBABCCADCEBACDBBACCACACBEADBBADCB</td>\n      <td>ADBBEDCABAABBCBCDAAECDDDBAAAECADECDCEBDEEAECBD...</td>\n      <td>AADDDBEEEBEDDBEBACABCDBABECECACAECDCBDCCEDCDA</td>\n      <td>1.0</td>\n      <td>120.0</td>\n      <td>120.0</td>\n      <td>120.0</td>\n      <td>120.0</td>\n      <td>120.0</td>\n      <td>600.0</td>\n    </tr>\n    <tr>\n      <th>2</th>\n      <td>190001004629</td>\n      <td>2019</td>\n      <td>1505502</td>\n      <td>Paragominas</td>\n      <td>15</td>\n      <td>PA</td>\n      <td>18</td>\n      <td>F</td>\n      <td>1</td>\n      <td>1</td>\n      <td>...</td>\n      <td>EEBCEEDBADBBCBABCCADCEBACDBBACCACACBEADBBADCB</td>\n      <td>ADBBEDCABAABBCBCDAAECDDDBAAAECADECDCEBDEEAECBD...</td>\n      <td>DBEBACABCDBABECEEEDCBDCCEDCDABEDAADDDECACAECB</td>\n      <td>1.0</td>\n      <td>140.0</td>\n      <td>120.0</td>\n      <td>120.0</td>\n      <td>140.0</td>\n      <td>120.0</td>\n      <td>640.0</td>\n    </tr>\n    <tr>\n      <th>3</th>\n      <td>190001004630</td>\n      <td>2019</td>\n      <td>1507706</td>\n      <td>São Sebastião da Boa Vista</td>\n      <td>15</td>\n      <td>PA</td>\n      <td>23</td>\n      <td>M</td>\n      <td>0</td>\n      <td>3</td>\n      <td>...</td>\n      <td>NaN</td>\n      <td>NaN</td>\n      <td>NaN</td>\n      <td>NaN</td>\n      <td>NaN</td>\n      <td>NaN</td>\n      <td>NaN</td>\n      <td>NaN</td>\n      <td>NaN</td>\n      <td>NaN</td>\n    </tr>\n    <tr>\n      <th>4</th>\n      <td>190001004631</td>\n      <td>2019</td>\n      <td>1503903</td>\n      <td>Juruti</td>\n      <td>15</td>\n      <td>PA</td>\n      <td>23</td>\n      <td>M</td>\n      <td>1</td>\n      <td>3</td>\n      <td>...</td>\n      <td>NaN</td>\n      <td>NaN</td>\n      <td>NaN</td>\n      <td>NaN</td>\n      <td>NaN</td>\n      <td>NaN</td>\n      <td>NaN</td>\n      <td>NaN</td>\n      <td>NaN</td>\n      <td>NaN</td>\n    </tr>\n  </tbody>\n</table>\n<p>5 rows × 39 columns</p>\n</div>"
     },
     "metadata": {},
     "execution_count": 7
    }
   ],
   "source": [
    "dados.head()"
   ]
  },
  {
   "cell_type": "code",
   "execution_count": 8,
   "metadata": {
    "tags": []
   },
   "outputs": [
    {
     "output_type": "stream",
     "name": "stdout",
     "text": "CPU times: user 250 ms, sys: 98 µs, total: 250 ms\nWall time: 248 ms\n"
    },
    {
     "output_type": "execute_result",
     "data": {
      "text/plain": "         NU_INSCRICAO  NU_ANO  CO_MUNICIPIO_RESIDENCIA  \\\n886      190001005513    2019                  1706001   \n3772     190001008399    2019                  1706001   \n17843    190001022470    2019                  1706001   \n20071    190001024699    2019                  1716109   \n34597    190001039225    2019                  1703909   \n...               ...     ...                      ...   \n5090525  190006113979    2019                  1713205   \n5090526  190006113980    2019                  1721000   \n5090527  190006113981    2019                  1718303   \n5090528  190006113982    2019                  1702109   \n5092715  190006116962    2019                  1720200   \n\n         NO_MUNICIPIO_RESIDENCIA  CO_UF_RESIDENCIA SG_UF_RESIDENCIA  NU_IDADE  \\\n886              Couto Magalhães                17               TO        19   \n3772             Couto Magalhães                17               TO        18   \n17843            Couto Magalhães                17               TO        17   \n20071       Paraíso do Tocantins                17               TO        35   \n34597                    Caseara                17               TO        18   \n...                          ...               ...              ...       ...   \n5090525    Miracema do Tocantins                17               TO        35   \n5090526                   Palmas                17               TO        21   \n5090527              Praia Norte                17               TO        26   \n5090528                Araguaína                17               TO        31   \n5092715  São Miguel do Tocantins                17               TO        28   \n\n        TP_SEXO  TP_ESTADO_CIVIL  TP_COR_RACA  ...  \\\n886           F                1            3  ...   \n3772          F                1            3  ...   \n17843         M                1            2  ...   \n20071         M                2            3  ...   \n34597         F                1            3  ...   \n...         ...              ...          ...  ...   \n5090525       F                2            3  ...   \n5090526       F                1            3  ...   \n5090527       F                1            3  ...   \n5090528       M                2            1  ...   \n5092715       M                1            3  ...   \n\n                                        TX_GABARITO_CH  \\\n886                                                NaN   \n3772     CBABADBBCEEEBCBADCBEEDBBEADBBACDBBACCCCADACAC   \n17843    BACCCBABBADCBCEEEBCACACEEDBCCADBEADBADBBBACDB   \n20071    BACCCBABBADCBCEEEBCACACEEDBCCADBEADBADBBBACDB   \n34597    CBABADBBCEEEBCBADCBEEDBBEADBBACDBBACCCCADACAC   \n...                                                ...   \n5090525  EEBCEEDBADBBCBABCCADCEBACDBBACCACACBEADBBADCB   \n5090526  EEBCEEDBADBBCBABCCADCEBACDBBACCACACBEADBBADCB   \n5090527                                            NaN   \n5090528                                            NaN   \n5092715                                            NaN   \n\n                                            TX_GABARITO_LC  \\\n886                                                    NaN   \n3772     BBEDABDACACBABAECBBCCADCEBDBBCDDEEAAADDBECDECA...   \n17843    BDABEABCADBCBAADDBECDAAECDAECBECBCCDEEAAADDBBC...   \n20071    BDABEABCADBCBAADDBECDAAECDAECBECBCCDEEAAADDBBC...   \n34597    BBEDABDACACBABAECBBCCADCEBDBBCDDEEAAADDBECDECA...   \n...                                                    ...   \n5090525  ADBBEDCABAABBCBCDAAECDDDBAAAECADECDCEBDEEAECBD...   \n5090526  ADBBEDCABAABBCBCDAAECDDDBAAAECADECDCEBDEEAECBD...   \n5090527                                                NaN   \n5090528                                                NaN   \n5092715                                                NaN   \n\n                                        TX_GABARITO_MT  TP_STATUS_REDACAO  \\\n886                                                NaN                NaN   \n3772     AADDDBEEEBEDDBEBACABCDBABECECACAECDCBDCCEDCDA                1.0   \n17843    EEEADBEBACABCDBABECECACDCBDCCEDCDABEDECDDDBAA                1.0   \n20071                                              NaN                4.0   \n34597    EEEADBEBACABCDBABECECACDCBDCCEDCDABEDECDDDBAA                1.0   \n...                                                ...                ...   \n5090525  EEEADBEBACABCDBABECECACDCBDCCEDCDABEDECDDDBAA                1.0   \n5090526                                            NaN                1.0   \n5090527                                            NaN                NaN   \n5090528                                            NaN                NaN   \n5092715                                            NaN                NaN   \n\n        NU_NOTA_COMP1  NU_NOTA_COMP2  NU_NOTA_COMP3  NU_NOTA_COMP4  \\\n886               NaN            NaN            NaN            NaN   \n3772            100.0          120.0          120.0          120.0   \n17843           160.0          120.0          160.0          160.0   \n20071             0.0            0.0            0.0            0.0   \n34597           100.0          120.0          120.0           80.0   \n...               ...            ...            ...            ...   \n5090525          80.0           40.0           40.0           80.0   \n5090526         120.0          120.0          120.0          100.0   \n5090527           NaN            NaN            NaN            NaN   \n5090528           NaN            NaN            NaN            NaN   \n5092715           NaN            NaN            NaN            NaN   \n\n         NU_NOTA_COMP5  NU_NOTA_REDACAO  \n886                NaN              NaN  \n3772             120.0            580.0  \n17843            140.0            740.0  \n20071              0.0              0.0  \n34597             80.0            500.0  \n...                ...              ...  \n5090525           40.0            280.0  \n5090526          100.0            560.0  \n5090527            NaN              NaN  \n5090528            NaN              NaN  \n5092715            NaN              NaN  \n\n[47181 rows x 39 columns]",
      "text/html": "<div>\n<style scoped>\n    .dataframe tbody tr th:only-of-type {\n        vertical-align: middle;\n    }\n\n    .dataframe tbody tr th {\n        vertical-align: top;\n    }\n\n    .dataframe thead th {\n        text-align: right;\n    }\n</style>\n<table border=\"1\" class=\"dataframe\">\n  <thead>\n    <tr style=\"text-align: right;\">\n      <th></th>\n      <th>NU_INSCRICAO</th>\n      <th>NU_ANO</th>\n      <th>CO_MUNICIPIO_RESIDENCIA</th>\n      <th>NO_MUNICIPIO_RESIDENCIA</th>\n      <th>CO_UF_RESIDENCIA</th>\n      <th>SG_UF_RESIDENCIA</th>\n      <th>NU_IDADE</th>\n      <th>TP_SEXO</th>\n      <th>TP_ESTADO_CIVIL</th>\n      <th>TP_COR_RACA</th>\n      <th>...</th>\n      <th>TX_GABARITO_CH</th>\n      <th>TX_GABARITO_LC</th>\n      <th>TX_GABARITO_MT</th>\n      <th>TP_STATUS_REDACAO</th>\n      <th>NU_NOTA_COMP1</th>\n      <th>NU_NOTA_COMP2</th>\n      <th>NU_NOTA_COMP3</th>\n      <th>NU_NOTA_COMP4</th>\n      <th>NU_NOTA_COMP5</th>\n      <th>NU_NOTA_REDACAO</th>\n    </tr>\n  </thead>\n  <tbody>\n    <tr>\n      <th>886</th>\n      <td>190001005513</td>\n      <td>2019</td>\n      <td>1706001</td>\n      <td>Couto Magalhães</td>\n      <td>17</td>\n      <td>TO</td>\n      <td>19</td>\n      <td>F</td>\n      <td>1</td>\n      <td>3</td>\n      <td>...</td>\n      <td>NaN</td>\n      <td>NaN</td>\n      <td>NaN</td>\n      <td>NaN</td>\n      <td>NaN</td>\n      <td>NaN</td>\n      <td>NaN</td>\n      <td>NaN</td>\n      <td>NaN</td>\n      <td>NaN</td>\n    </tr>\n    <tr>\n      <th>3772</th>\n      <td>190001008399</td>\n      <td>2019</td>\n      <td>1706001</td>\n      <td>Couto Magalhães</td>\n      <td>17</td>\n      <td>TO</td>\n      <td>18</td>\n      <td>F</td>\n      <td>1</td>\n      <td>3</td>\n      <td>...</td>\n      <td>CBABADBBCEEEBCBADCBEEDBBEADBBACDBBACCCCADACAC</td>\n      <td>BBEDABDACACBABAECBBCCADCEBDBBCDDEEAAADDBECDECA...</td>\n      <td>AADDDBEEEBEDDBEBACABCDBABECECACAECDCBDCCEDCDA</td>\n      <td>1.0</td>\n      <td>100.0</td>\n      <td>120.0</td>\n      <td>120.0</td>\n      <td>120.0</td>\n      <td>120.0</td>\n      <td>580.0</td>\n    </tr>\n    <tr>\n      <th>17843</th>\n      <td>190001022470</td>\n      <td>2019</td>\n      <td>1706001</td>\n      <td>Couto Magalhães</td>\n      <td>17</td>\n      <td>TO</td>\n      <td>17</td>\n      <td>M</td>\n      <td>1</td>\n      <td>2</td>\n      <td>...</td>\n      <td>BACCCBABBADCBCEEEBCACACEEDBCCADBEADBADBBBACDB</td>\n      <td>BDABEABCADBCBAADDBECDAAECDAECBECBCCDEEAAADDBBC...</td>\n      <td>EEEADBEBACABCDBABECECACDCBDCCEDCDABEDECDDDBAA</td>\n      <td>1.0</td>\n      <td>160.0</td>\n      <td>120.0</td>\n      <td>160.0</td>\n      <td>160.0</td>\n      <td>140.0</td>\n      <td>740.0</td>\n    </tr>\n    <tr>\n      <th>20071</th>\n      <td>190001024699</td>\n      <td>2019</td>\n      <td>1716109</td>\n      <td>Paraíso do Tocantins</td>\n      <td>17</td>\n      <td>TO</td>\n      <td>35</td>\n      <td>M</td>\n      <td>2</td>\n      <td>3</td>\n      <td>...</td>\n      <td>BACCCBABBADCBCEEEBCACACEEDBCCADBEADBADBBBACDB</td>\n      <td>BDABEABCADBCBAADDBECDAAECDAECBECBCCDEEAAADDBBC...</td>\n      <td>NaN</td>\n      <td>4.0</td>\n      <td>0.0</td>\n      <td>0.0</td>\n      <td>0.0</td>\n      <td>0.0</td>\n      <td>0.0</td>\n      <td>0.0</td>\n    </tr>\n    <tr>\n      <th>34597</th>\n      <td>190001039225</td>\n      <td>2019</td>\n      <td>1703909</td>\n      <td>Caseara</td>\n      <td>17</td>\n      <td>TO</td>\n      <td>18</td>\n      <td>F</td>\n      <td>1</td>\n      <td>3</td>\n      <td>...</td>\n      <td>CBABADBBCEEEBCBADCBEEDBBEADBBACDBBACCCCADACAC</td>\n      <td>BBEDABDACACBABAECBBCCADCEBDBBCDDEEAAADDBECDECA...</td>\n      <td>EEEADBEBACABCDBABECECACDCBDCCEDCDABEDECDDDBAA</td>\n      <td>1.0</td>\n      <td>100.0</td>\n      <td>120.0</td>\n      <td>120.0</td>\n      <td>80.0</td>\n      <td>80.0</td>\n      <td>500.0</td>\n    </tr>\n    <tr>\n      <th>...</th>\n      <td>...</td>\n      <td>...</td>\n      <td>...</td>\n      <td>...</td>\n      <td>...</td>\n      <td>...</td>\n      <td>...</td>\n      <td>...</td>\n      <td>...</td>\n      <td>...</td>\n      <td>...</td>\n      <td>...</td>\n      <td>...</td>\n      <td>...</td>\n      <td>...</td>\n      <td>...</td>\n      <td>...</td>\n      <td>...</td>\n      <td>...</td>\n      <td>...</td>\n      <td>...</td>\n    </tr>\n    <tr>\n      <th>5090525</th>\n      <td>190006113979</td>\n      <td>2019</td>\n      <td>1713205</td>\n      <td>Miracema do Tocantins</td>\n      <td>17</td>\n      <td>TO</td>\n      <td>35</td>\n      <td>F</td>\n      <td>2</td>\n      <td>3</td>\n      <td>...</td>\n      <td>EEBCEEDBADBBCBABCCADCEBACDBBACCACACBEADBBADCB</td>\n      <td>ADBBEDCABAABBCBCDAAECDDDBAAAECADECDCEBDEEAECBD...</td>\n      <td>EEEADBEBACABCDBABECECACDCBDCCEDCDABEDECDDDBAA</td>\n      <td>1.0</td>\n      <td>80.0</td>\n      <td>40.0</td>\n      <td>40.0</td>\n      <td>80.0</td>\n      <td>40.0</td>\n      <td>280.0</td>\n    </tr>\n    <tr>\n      <th>5090526</th>\n      <td>190006113980</td>\n      <td>2019</td>\n      <td>1721000</td>\n      <td>Palmas</td>\n      <td>17</td>\n      <td>TO</td>\n      <td>21</td>\n      <td>F</td>\n      <td>1</td>\n      <td>3</td>\n      <td>...</td>\n      <td>EEBCEEDBADBBCBABCCADCEBACDBBACCACACBEADBBADCB</td>\n      <td>ADBBEDCABAABBCBCDAAECDDDBAAAECADECDCEBDEEAECBD...</td>\n      <td>NaN</td>\n      <td>1.0</td>\n      <td>120.0</td>\n      <td>120.0</td>\n      <td>120.0</td>\n      <td>100.0</td>\n      <td>100.0</td>\n      <td>560.0</td>\n    </tr>\n    <tr>\n      <th>5090527</th>\n      <td>190006113981</td>\n      <td>2019</td>\n      <td>1718303</td>\n      <td>Praia Norte</td>\n      <td>17</td>\n      <td>TO</td>\n      <td>26</td>\n      <td>F</td>\n      <td>1</td>\n      <td>3</td>\n      <td>...</td>\n      <td>NaN</td>\n      <td>NaN</td>\n      <td>NaN</td>\n      <td>NaN</td>\n      <td>NaN</td>\n      <td>NaN</td>\n      <td>NaN</td>\n      <td>NaN</td>\n      <td>NaN</td>\n      <td>NaN</td>\n    </tr>\n    <tr>\n      <th>5090528</th>\n      <td>190006113982</td>\n      <td>2019</td>\n      <td>1702109</td>\n      <td>Araguaína</td>\n      <td>17</td>\n      <td>TO</td>\n      <td>31</td>\n      <td>M</td>\n      <td>2</td>\n      <td>1</td>\n      <td>...</td>\n      <td>NaN</td>\n      <td>NaN</td>\n      <td>NaN</td>\n      <td>NaN</td>\n      <td>NaN</td>\n      <td>NaN</td>\n      <td>NaN</td>\n      <td>NaN</td>\n      <td>NaN</td>\n      <td>NaN</td>\n    </tr>\n    <tr>\n      <th>5092715</th>\n      <td>190006116962</td>\n      <td>2019</td>\n      <td>1720200</td>\n      <td>São Miguel do Tocantins</td>\n      <td>17</td>\n      <td>TO</td>\n      <td>28</td>\n      <td>M</td>\n      <td>1</td>\n      <td>3</td>\n      <td>...</td>\n      <td>NaN</td>\n      <td>NaN</td>\n      <td>NaN</td>\n      <td>NaN</td>\n      <td>NaN</td>\n      <td>NaN</td>\n      <td>NaN</td>\n      <td>NaN</td>\n      <td>NaN</td>\n      <td>NaN</td>\n    </tr>\n  </tbody>\n</table>\n<p>47181 rows × 39 columns</p>\n</div>"
     },
     "metadata": {},
     "execution_count": 8
    }
   ],
   "source": [
    "%%time\n",
    "dados[dados['SG_UF_RESIDENCIA']=='TO']"
   ]
  },
  {
   "cell_type": "code",
   "execution_count": 9,
   "metadata": {},
   "outputs": [],
   "source": [
    "ufs = sorted(dados['SG_UF_RESIDENCIA'].unique())"
   ]
  },
  {
   "cell_type": "code",
   "execution_count": 10,
   "metadata": {},
   "outputs": [
    {
     "output_type": "execute_result",
     "data": {
      "text/plain": "['AC',\n 'AL',\n 'AM',\n 'AP',\n 'BA',\n 'CE',\n 'DF',\n 'ES',\n 'GO',\n 'MA',\n 'MG',\n 'MS',\n 'MT',\n 'PA',\n 'PB',\n 'PE',\n 'PI',\n 'PR',\n 'RJ',\n 'RN',\n 'RO',\n 'RR',\n 'RS',\n 'SC',\n 'SE',\n 'SP',\n 'TO']"
     },
     "metadata": {},
     "execution_count": 10
    }
   ],
   "source": [
    "ufs"
   ]
  },
  {
   "cell_type": "code",
   "execution_count": 11,
   "metadata": {
    "tags": []
   },
   "outputs": [
    {
     "output_type": "stream",
     "name": "stdout",
     "text": "CPU times: user 1min 34s, sys: 2.76 s, total: 1min 37s\nWall time: 1min 37s\n"
    }
   ],
   "source": [
    "%%time\n",
    "for uf in ufs:\n",
    "    uf_file = './dados/uf/{}_2019.csv'.format(uf)\n",
    "    dados[dados['SG_UF_RESIDENCIA'] == uf].to_csv(uf_file, index=False)\n"
   ]
  },
  {
   "cell_type": "code",
   "execution_count": null,
   "metadata": {},
   "outputs": [],
   "source": []
  }
 ]
}